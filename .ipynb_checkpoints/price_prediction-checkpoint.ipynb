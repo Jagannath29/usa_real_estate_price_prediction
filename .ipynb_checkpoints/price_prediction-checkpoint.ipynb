{
 "cells": [
  {
   "cell_type": "code",
   "execution_count": 1,
   "metadata": {},
   "outputs": [],
   "source": [
    "import os\n",
    "import pandas as pd\n",
    "import numpy as np\n",
    "import matplotlib.pyplot as plt\n",
    "import seaborn as sns"
   ]
  },
  {
   "cell_type": "code",
   "execution_count": 2,
   "metadata": {},
   "outputs": [],
   "source": [
    "# Creating path for dataset\n",
    "current_dir = os.getcwd()\n",
    "dataset_file = '/home/ubuntu/Downloads/realtor-data.zip.csv'\n"
   ]
  },
  {
   "cell_type": "code",
   "execution_count": 3,
   "metadata": {},
   "outputs": [],
   "source": [
    "dataset_path = os.path.join(current_dir, dataset_file)"
   ]
  },
  {
   "cell_type": "code",
   "execution_count": 4,
   "metadata": {
    "scrolled": true
   },
   "outputs": [
    {
     "data": {
      "text/html": [
       "<div>\n",
       "<style scoped>\n",
       "    .dataframe tbody tr th:only-of-type {\n",
       "        vertical-align: middle;\n",
       "    }\n",
       "\n",
       "    .dataframe tbody tr th {\n",
       "        vertical-align: top;\n",
       "    }\n",
       "\n",
       "    .dataframe thead th {\n",
       "        text-align: right;\n",
       "    }\n",
       "</style>\n",
       "<table border=\"1\" class=\"dataframe\">\n",
       "  <thead>\n",
       "    <tr style=\"text-align: right;\">\n",
       "      <th></th>\n",
       "      <th>brokered_by</th>\n",
       "      <th>status</th>\n",
       "      <th>price</th>\n",
       "      <th>bed</th>\n",
       "      <th>bath</th>\n",
       "      <th>acre_lot</th>\n",
       "      <th>street</th>\n",
       "      <th>city</th>\n",
       "      <th>state</th>\n",
       "      <th>zip_code</th>\n",
       "      <th>house_size</th>\n",
       "      <th>prev_sold_date</th>\n",
       "    </tr>\n",
       "  </thead>\n",
       "  <tbody>\n",
       "    <tr>\n",
       "      <th>0</th>\n",
       "      <td>103378.0</td>\n",
       "      <td>for_sale</td>\n",
       "      <td>105000.0</td>\n",
       "      <td>3.0</td>\n",
       "      <td>2.0</td>\n",
       "      <td>0.12</td>\n",
       "      <td>1962661.0</td>\n",
       "      <td>Adjuntas</td>\n",
       "      <td>Puerto Rico</td>\n",
       "      <td>601.0</td>\n",
       "      <td>920.0</td>\n",
       "      <td>NaN</td>\n",
       "    </tr>\n",
       "    <tr>\n",
       "      <th>1</th>\n",
       "      <td>52707.0</td>\n",
       "      <td>for_sale</td>\n",
       "      <td>80000.0</td>\n",
       "      <td>4.0</td>\n",
       "      <td>2.0</td>\n",
       "      <td>0.08</td>\n",
       "      <td>1902874.0</td>\n",
       "      <td>Adjuntas</td>\n",
       "      <td>Puerto Rico</td>\n",
       "      <td>601.0</td>\n",
       "      <td>1527.0</td>\n",
       "      <td>NaN</td>\n",
       "    </tr>\n",
       "    <tr>\n",
       "      <th>2</th>\n",
       "      <td>103379.0</td>\n",
       "      <td>for_sale</td>\n",
       "      <td>67000.0</td>\n",
       "      <td>2.0</td>\n",
       "      <td>1.0</td>\n",
       "      <td>0.15</td>\n",
       "      <td>1404990.0</td>\n",
       "      <td>Juana Diaz</td>\n",
       "      <td>Puerto Rico</td>\n",
       "      <td>795.0</td>\n",
       "      <td>748.0</td>\n",
       "      <td>NaN</td>\n",
       "    </tr>\n",
       "    <tr>\n",
       "      <th>3</th>\n",
       "      <td>31239.0</td>\n",
       "      <td>for_sale</td>\n",
       "      <td>145000.0</td>\n",
       "      <td>4.0</td>\n",
       "      <td>2.0</td>\n",
       "      <td>0.10</td>\n",
       "      <td>1947675.0</td>\n",
       "      <td>Ponce</td>\n",
       "      <td>Puerto Rico</td>\n",
       "      <td>731.0</td>\n",
       "      <td>1800.0</td>\n",
       "      <td>NaN</td>\n",
       "    </tr>\n",
       "    <tr>\n",
       "      <th>4</th>\n",
       "      <td>34632.0</td>\n",
       "      <td>for_sale</td>\n",
       "      <td>65000.0</td>\n",
       "      <td>6.0</td>\n",
       "      <td>2.0</td>\n",
       "      <td>0.05</td>\n",
       "      <td>331151.0</td>\n",
       "      <td>Mayaguez</td>\n",
       "      <td>Puerto Rico</td>\n",
       "      <td>680.0</td>\n",
       "      <td>NaN</td>\n",
       "      <td>NaN</td>\n",
       "    </tr>\n",
       "  </tbody>\n",
       "</table>\n",
       "</div>"
      ],
      "text/plain": [
       "   brokered_by    status     price  bed  bath  acre_lot     street  \\\n",
       "0     103378.0  for_sale  105000.0  3.0   2.0      0.12  1962661.0   \n",
       "1      52707.0  for_sale   80000.0  4.0   2.0      0.08  1902874.0   \n",
       "2     103379.0  for_sale   67000.0  2.0   1.0      0.15  1404990.0   \n",
       "3      31239.0  for_sale  145000.0  4.0   2.0      0.10  1947675.0   \n",
       "4      34632.0  for_sale   65000.0  6.0   2.0      0.05   331151.0   \n",
       "\n",
       "         city        state  zip_code  house_size prev_sold_date  \n",
       "0    Adjuntas  Puerto Rico     601.0       920.0            NaN  \n",
       "1    Adjuntas  Puerto Rico     601.0      1527.0            NaN  \n",
       "2  Juana Diaz  Puerto Rico     795.0       748.0            NaN  \n",
       "3       Ponce  Puerto Rico     731.0      1800.0            NaN  \n",
       "4    Mayaguez  Puerto Rico     680.0         NaN            NaN  "
      ]
     },
     "execution_count": 4,
     "metadata": {},
     "output_type": "execute_result"
    }
   ],
   "source": [
    "data = pd.read_csv(dataset_path)\n",
    "data.head()"
   ]
  },
  {
   "cell_type": "code",
   "execution_count": null,
   "metadata": {},
   "outputs": [],
   "source": []
  },
  {
   "cell_type": "markdown",
   "metadata": {},
   "source": [
    "### Top 5 rows in the dataset\n",
    "- Where\n",
    "  - status: Status of the house i.e sold or not sold\n",
    "  - price: Price of the house.\n",
    "  - bed: How many bed are there inside house.\n",
    "  - bath: How many toilets are there inside house.\n",
    "  - city: In which city, house lies.\n",
    "  - street: Address of the house\n",
    "  - zip_code: zip code of address\n",
    "  - prev_sold_date: date of the house that are previously sold.\n",
    "  \n"
   ]
  },
  {
   "cell_type": "code",
   "execution_count": null,
   "metadata": {},
   "outputs": [],
   "source": []
  },
  {
   "cell_type": "code",
   "execution_count": 5,
   "metadata": {},
   "outputs": [
    {
     "name": "stdout",
     "output_type": "stream",
     "text": [
      "Rows: 2226382 and column: 12\n"
     ]
    }
   ],
   "source": [
    "# Shape of the data\n",
    "data.shape\n",
    "\n",
    "print(f'Rows: {data.shape[0]} and column: {data.shape[1]}')"
   ]
  },
  {
   "cell_type": "markdown",
   "metadata": {},
   "source": [
    "Our dataset has 2226382 rows and 12 columns"
   ]
  },
  {
   "cell_type": "markdown",
   "metadata": {},
   "source": [
    "### The rows of this dataset is more than huge. I would like to work of around 1 million rows. So, I will just drop the rest."
   ]
  },
  {
   "cell_type": "code",
   "execution_count": 6,
   "metadata": {},
   "outputs": [],
   "source": [
    "df_dropped = data.drop(data.index[:2126382]) "
   ]
  },
  {
   "cell_type": "code",
   "execution_count": 7,
   "metadata": {},
   "outputs": [
    {
     "data": {
      "text/plain": [
       "(100000, 12)"
      ]
     },
     "execution_count": 7,
     "metadata": {},
     "output_type": "execute_result"
    }
   ],
   "source": [
    "df_dropped.shape"
   ]
  },
  {
   "cell_type": "code",
   "execution_count": 8,
   "metadata": {},
   "outputs": [
    {
     "name": "stdout",
     "output_type": "stream",
     "text": [
      "<class 'pandas.core.frame.DataFrame'>\n",
      "RangeIndex: 100000 entries, 2126382 to 2226381\n",
      "Data columns (total 12 columns):\n",
      " #   Column          Non-Null Count   Dtype  \n",
      "---  ------          --------------   -----  \n",
      " 0   brokered_by     99907 non-null   float64\n",
      " 1   status          100000 non-null  object \n",
      " 2   price           100000 non-null  float64\n",
      " 3   bed             94173 non-null   float64\n",
      " 4   bath            93687 non-null   float64\n",
      " 5   acre_lot        89463 non-null   float64\n",
      " 6   street          99766 non-null   float64\n",
      " 7   city            99995 non-null   object \n",
      " 8   state           100000 non-null  object \n",
      " 9   zip_code        100000 non-null  float64\n",
      " 10  house_size      94483 non-null   float64\n",
      " 11  prev_sold_date  100000 non-null  object \n",
      "dtypes: float64(8), object(4)\n",
      "memory usage: 9.2+ MB\n"
     ]
    }
   ],
   "source": [
    "# Information of the dataset\n",
    "df_dropped.info()"
   ]
  },
  {
   "cell_type": "code",
   "execution_count": 9,
   "metadata": {},
   "outputs": [
    {
     "data": {
      "text/plain": [
       "city\n",
       "Seattle          4175\n",
       "Sacramento       3980\n",
       "San Jose         3485\n",
       "Portland         3460\n",
       "San Francisco    2771\n",
       "Name: count, dtype: int64"
      ]
     },
     "execution_count": 9,
     "metadata": {},
     "output_type": "execute_result"
    }
   ],
   "source": [
    "df_dropped['city'].value_counts().head()"
   ]
  },
  {
   "cell_type": "markdown",
   "metadata": {},
   "source": [
    "## let's see weather a column contains null values or not"
   ]
  },
  {
   "cell_type": "code",
   "execution_count": 10,
   "metadata": {},
   "outputs": [
    {
     "data": {
      "text/plain": [
       "brokered_by          93\n",
       "status                0\n",
       "price                 0\n",
       "bed                5827\n",
       "bath               6313\n",
       "acre_lot          10537\n",
       "street              234\n",
       "city                  5\n",
       "state                 0\n",
       "zip_code              0\n",
       "house_size         5517\n",
       "prev_sold_date        0\n",
       "dtype: int64"
      ]
     },
     "execution_count": 10,
     "metadata": {},
     "output_type": "execute_result"
    }
   ],
   "source": [
    "df_dropped.isnull().sum()"
   ]
  },
  {
   "cell_type": "markdown",
   "metadata": {},
   "source": [
    "### it seems like we have lot of work to do.\n",
    "- Except for status, price, state, zip_code and prev_sold_date every other column atleast contains a null values"
   ]
  },
  {
   "cell_type": "markdown",
   "metadata": {},
   "source": [
    "Let's visualize the null values "
   ]
  },
  {
   "cell_type": "code",
   "execution_count": 11,
   "metadata": {},
   "outputs": [
    {
     "data": {
      "image/png": "[encoded data removed]",
      "text/plain": [
       "<Figure size 1000x600 with 1 Axes>"
      ]
     },
     "metadata": {},
     "output_type": "display_data"
    }
   ],
   "source": [
    "plt.figure(figsize=(10,6))\n",
    "sns.heatmap(df_dropped.isnull(),cmap='viridis', cbar=False)\n",
    "plt.title('Null values')\n",
    "plt.show()"
   ]
  },
  {
   "cell_type": "code",
   "execution_count": 12,
   "metadata": {},
   "outputs": [
    {
     "data": {
      "image/png": "[encoded data removed]",
      "text/plain": [
       "<Figure size 1000x600 with 1 Axes>"
      ]
     },
     "metadata": {},
     "output_type": "display_data"
    }
   ],
   "source": [
    "plt.figure(figsize=(10, 6))\n",
    "df_dropped.isnull().sum().plot(kind='bar', color='skyblue')\n",
    "plt.title('Visualization of null values')\n",
    "plt.xlabel('Columns')\n",
    "plt.ylabel('Null values')\n",
    "plt.show()"
   ]
  },
  {
   "cell_type": "markdown",
   "metadata": {},
   "source": [
    "As we can see there is highest null_values in acre_lot.\n",
    "\n",
    "We need to fill all theses values in proper way to get a better prediction"
   ]
  },
  {
   "cell_type": "markdown",
   "metadata": {},
   "source": [
    "Let's fill the columns that has low number of missing values."
   ]
  },
  {
   "cell_type": "code",
   "execution_count": 13,
   "metadata": {},
   "outputs": [],
   "source": [
    "cols_to_fill = ['brokered_by', 'street', 'house_size', 'bed','acre_lot', 'bath']\n"
   ]
  },
  {
   "cell_type": "code",
   "execution_count": 14,
   "metadata": {},
   "outputs": [],
   "source": [
    "df_dropped[cols_to_fill] = df_dropped[cols_to_fill].fillna(df_dropped[cols_to_fill].median())"
   ]
  },
  {
   "cell_type": "code",
   "execution_count": 15,
   "metadata": {},
   "outputs": [
    {
     "data": {
      "text/plain": [
       "brokered_by       0\n",
       "status            0\n",
       "price             0\n",
       "bed               0\n",
       "bath              0\n",
       "acre_lot          0\n",
       "street            0\n",
       "city              5\n",
       "state             0\n",
       "zip_code          0\n",
       "house_size        0\n",
       "prev_sold_date    0\n",
       "dtype: int64"
      ]
     },
     "execution_count": 15,
     "metadata": {},
     "output_type": "execute_result"
    }
   ],
   "source": [
    "df_dropped.isnull().sum()"
   ]
  },
  {
   "cell_type": "code",
   "execution_count": 16,
   "metadata": {},
   "outputs": [
    {
     "data": {
      "text/html": [
       "<div>\n",
       "<style scoped>\n",
       "    .dataframe tbody tr th:only-of-type {\n",
       "        vertical-align: middle;\n",
       "    }\n",
       "\n",
       "    .dataframe tbody tr th {\n",
       "        vertical-align: top;\n",
       "    }\n",
       "\n",
       "    .dataframe thead th {\n",
       "        text-align: right;\n",
       "    }\n",
       "</style>\n",
       "<table border=\"1\" class=\"dataframe\">\n",
       "  <thead>\n",
       "    <tr style=\"text-align: right;\">\n",
       "      <th></th>\n",
       "      <th>brokered_by</th>\n",
       "      <th>status</th>\n",
       "      <th>price</th>\n",
       "      <th>bed</th>\n",
       "      <th>bath</th>\n",
       "      <th>acre_lot</th>\n",
       "      <th>street</th>\n",
       "      <th>city</th>\n",
       "      <th>state</th>\n",
       "      <th>zip_code</th>\n",
       "      <th>house_size</th>\n",
       "      <th>prev_sold_date</th>\n",
       "    </tr>\n",
       "  </thead>\n",
       "  <tbody>\n",
       "    <tr>\n",
       "      <th>2226377</th>\n",
       "      <td>23009.0</td>\n",
       "      <td>sold</td>\n",
       "      <td>359900.0</td>\n",
       "      <td>4.0</td>\n",
       "      <td>2.0</td>\n",
       "      <td>0.33</td>\n",
       "      <td>353094.0</td>\n",
       "      <td>Richland</td>\n",
       "      <td>Washington</td>\n",
       "      <td>99354.0</td>\n",
       "      <td>3600.0</td>\n",
       "      <td>2022-03-25</td>\n",
       "    </tr>\n",
       "    <tr>\n",
       "      <th>2226378</th>\n",
       "      <td>18208.0</td>\n",
       "      <td>sold</td>\n",
       "      <td>350000.0</td>\n",
       "      <td>3.0</td>\n",
       "      <td>2.0</td>\n",
       "      <td>0.10</td>\n",
       "      <td>1062149.0</td>\n",
       "      <td>Richland</td>\n",
       "      <td>Washington</td>\n",
       "      <td>99354.0</td>\n",
       "      <td>1616.0</td>\n",
       "      <td>2022-03-25</td>\n",
       "    </tr>\n",
       "    <tr>\n",
       "      <th>2226379</th>\n",
       "      <td>76856.0</td>\n",
       "      <td>sold</td>\n",
       "      <td>440000.0</td>\n",
       "      <td>6.0</td>\n",
       "      <td>3.0</td>\n",
       "      <td>0.50</td>\n",
       "      <td>405677.0</td>\n",
       "      <td>Richland</td>\n",
       "      <td>Washington</td>\n",
       "      <td>99354.0</td>\n",
       "      <td>3200.0</td>\n",
       "      <td>2022-03-24</td>\n",
       "    </tr>\n",
       "    <tr>\n",
       "      <th>2226380</th>\n",
       "      <td>53618.0</td>\n",
       "      <td>sold</td>\n",
       "      <td>179900.0</td>\n",
       "      <td>2.0</td>\n",
       "      <td>1.0</td>\n",
       "      <td>0.09</td>\n",
       "      <td>761379.0</td>\n",
       "      <td>Richland</td>\n",
       "      <td>Washington</td>\n",
       "      <td>99354.0</td>\n",
       "      <td>933.0</td>\n",
       "      <td>2022-03-24</td>\n",
       "    </tr>\n",
       "    <tr>\n",
       "      <th>2226381</th>\n",
       "      <td>108243.0</td>\n",
       "      <td>sold</td>\n",
       "      <td>580000.0</td>\n",
       "      <td>5.0</td>\n",
       "      <td>3.0</td>\n",
       "      <td>0.31</td>\n",
       "      <td>307704.0</td>\n",
       "      <td>Richland</td>\n",
       "      <td>Washington</td>\n",
       "      <td>99354.0</td>\n",
       "      <td>3615.0</td>\n",
       "      <td>2022-03-23</td>\n",
       "    </tr>\n",
       "  </tbody>\n",
       "</table>\n",
       "</div>"
      ],
      "text/plain": [
       "         brokered_by status     price  bed  bath  acre_lot     street  \\\n",
       "2226377      23009.0   sold  359900.0  4.0   2.0      0.33   353094.0   \n",
       "2226378      18208.0   sold  350000.0  3.0   2.0      0.10  1062149.0   \n",
       "2226379      76856.0   sold  440000.0  6.0   3.0      0.50   405677.0   \n",
       "2226380      53618.0   sold  179900.0  2.0   1.0      0.09   761379.0   \n",
       "2226381     108243.0   sold  580000.0  5.0   3.0      0.31   307704.0   \n",
       "\n",
       "             city       state  zip_code  house_size prev_sold_date  \n",
       "2226377  Richland  Washington   99354.0      3600.0     2022-03-25  \n",
       "2226378  Richland  Washington   99354.0      1616.0     2022-03-25  \n",
       "2226379  Richland  Washington   99354.0      3200.0     2022-03-24  \n",
       "2226380  Richland  Washington   99354.0       933.0     2022-03-24  \n",
       "2226381  Richland  Washington   99354.0      3615.0     2022-03-23  "
      ]
     },
     "execution_count": 16,
     "metadata": {},
     "output_type": "execute_result"
    }
   ],
   "source": [
    "data.tail()"
   ]
  },
  {
   "cell_type": "markdown",
   "metadata": {},
   "source": [
    "Lets work on prev_sold_date"
   ]
  },
  {
   "cell_type": "code",
   "execution_count": 17,
   "metadata": {},
   "outputs": [],
   "source": [
    "df_dropped[['prev_sold_day', 'prev_sold_month', 'prev_sold_year']] = df_dropped['prev_sold_date'].str.split('-', expand=True)\n"
   ]
  },
  {
   "cell_type": "code",
   "execution_count": 18,
   "metadata": {
    "scrolled": true
   },
   "outputs": [
    {
     "data": {
      "text/html": [
       "<div>\n",
       "<style scoped>\n",
       "    .dataframe tbody tr th:only-of-type {\n",
       "        vertical-align: middle;\n",
       "    }\n",
       "\n",
       "    .dataframe tbody tr th {\n",
       "        vertical-align: top;\n",
       "    }\n",
       "\n",
       "    .dataframe thead th {\n",
       "        text-align: right;\n",
       "    }\n",
       "</style>\n",
       "<table border=\"1\" class=\"dataframe\">\n",
       "  <thead>\n",
       "    <tr style=\"text-align: right;\">\n",
       "      <th></th>\n",
       "      <th>brokered_by</th>\n",
       "      <th>status</th>\n",
       "      <th>price</th>\n",
       "      <th>bed</th>\n",
       "      <th>bath</th>\n",
       "      <th>acre_lot</th>\n",
       "      <th>street</th>\n",
       "      <th>city</th>\n",
       "      <th>state</th>\n",
       "      <th>zip_code</th>\n",
       "      <th>house_size</th>\n",
       "      <th>prev_sold_date</th>\n",
       "      <th>prev_sold_day</th>\n",
       "      <th>prev_sold_month</th>\n",
       "      <th>prev_sold_year</th>\n",
       "    </tr>\n",
       "  </thead>\n",
       "  <tbody>\n",
       "    <tr>\n",
       "      <th>2126382</th>\n",
       "      <td>53587.0</td>\n",
       "      <td>sold</td>\n",
       "      <td>1199000.0</td>\n",
       "      <td>2.0</td>\n",
       "      <td>2.0</td>\n",
       "      <td>0.17</td>\n",
       "      <td>234139.0</td>\n",
       "      <td>Menlo Park</td>\n",
       "      <td>California</td>\n",
       "      <td>94025.0</td>\n",
       "      <td>1070.0</td>\n",
       "      <td>2022-03-04</td>\n",
       "      <td>2022</td>\n",
       "      <td>03</td>\n",
       "      <td>04</td>\n",
       "    </tr>\n",
       "    <tr>\n",
       "      <th>2126383</th>\n",
       "      <td>90671.0</td>\n",
       "      <td>sold</td>\n",
       "      <td>5998000.0</td>\n",
       "      <td>5.0</td>\n",
       "      <td>3.0</td>\n",
       "      <td>0.21</td>\n",
       "      <td>632493.0</td>\n",
       "      <td>Palo Alto</td>\n",
       "      <td>California</td>\n",
       "      <td>94301.0</td>\n",
       "      <td>2840.0</td>\n",
       "      <td>2022-03-04</td>\n",
       "      <td>2022</td>\n",
       "      <td>03</td>\n",
       "      <td>04</td>\n",
       "    </tr>\n",
       "    <tr>\n",
       "      <th>2126384</th>\n",
       "      <td>47547.0</td>\n",
       "      <td>sold</td>\n",
       "      <td>588000.0</td>\n",
       "      <td>1.0</td>\n",
       "      <td>1.0</td>\n",
       "      <td>0.17</td>\n",
       "      <td>1426633.0</td>\n",
       "      <td>Sunnyvale</td>\n",
       "      <td>California</td>\n",
       "      <td>94086.0</td>\n",
       "      <td>747.0</td>\n",
       "      <td>2022-03-04</td>\n",
       "      <td>2022</td>\n",
       "      <td>03</td>\n",
       "      <td>04</td>\n",
       "    </tr>\n",
       "    <tr>\n",
       "      <th>2126385</th>\n",
       "      <td>72938.0</td>\n",
       "      <td>sold</td>\n",
       "      <td>258000.0</td>\n",
       "      <td>3.0</td>\n",
       "      <td>2.0</td>\n",
       "      <td>0.17</td>\n",
       "      <td>223344.0</td>\n",
       "      <td>Sunnyvale</td>\n",
       "      <td>California</td>\n",
       "      <td>94089.0</td>\n",
       "      <td>1041.0</td>\n",
       "      <td>2022-03-04</td>\n",
       "      <td>2022</td>\n",
       "      <td>03</td>\n",
       "      <td>04</td>\n",
       "    </tr>\n",
       "    <tr>\n",
       "      <th>2126386</th>\n",
       "      <td>16829.0</td>\n",
       "      <td>sold</td>\n",
       "      <td>898000.0</td>\n",
       "      <td>2.0</td>\n",
       "      <td>1.0</td>\n",
       "      <td>0.06</td>\n",
       "      <td>1509673.0</td>\n",
       "      <td>Redwood City</td>\n",
       "      <td>California</td>\n",
       "      <td>94063.0</td>\n",
       "      <td>820.0</td>\n",
       "      <td>2022-03-04</td>\n",
       "      <td>2022</td>\n",
       "      <td>03</td>\n",
       "      <td>04</td>\n",
       "    </tr>\n",
       "  </tbody>\n",
       "</table>\n",
       "</div>"
      ],
      "text/plain": [
       "         brokered_by status      price  bed  bath  acre_lot     street  \\\n",
       "2126382      53587.0   sold  1199000.0  2.0   2.0      0.17   234139.0   \n",
       "2126383      90671.0   sold  5998000.0  5.0   3.0      0.21   632493.0   \n",
       "2126384      47547.0   sold   588000.0  1.0   1.0      0.17  1426633.0   \n",
       "2126385      72938.0   sold   258000.0  3.0   2.0      0.17   223344.0   \n",
       "2126386      16829.0   sold   898000.0  2.0   1.0      0.06  1509673.0   \n",
       "\n",
       "                 city       state  zip_code  house_size prev_sold_date  \\\n",
       "2126382    Menlo Park  California   94025.0      1070.0     2022-03-04   \n",
       "2126383     Palo Alto  California   94301.0      2840.0     2022-03-04   \n",
       "2126384     Sunnyvale  California   94086.0       747.0     2022-03-04   \n",
       "2126385     Sunnyvale  California   94089.0      1041.0     2022-03-04   \n",
       "2126386  Redwood City  California   94063.0       820.0     2022-03-04   \n",
       "\n",
       "        prev_sold_day prev_sold_month prev_sold_year  \n",
       "2126382          2022              03             04  \n",
       "2126383          2022              03             04  \n",
       "2126384          2022              03             04  \n",
       "2126385          2022              03             04  \n",
       "2126386          2022              03             04  "
      ]
     },
     "execution_count": 18,
     "metadata": {},
     "output_type": "execute_result"
    }
   ],
   "source": [
    "df_dropped.head()"
   ]
  },
  {
   "cell_type": "code",
   "execution_count": 19,
   "metadata": {},
   "outputs": [],
   "source": [
    "# now we don't need prev_sold date column\n",
    "df_dropped = df_dropped.drop('prev_sold_date', axis=1)"
   ]
  },
  {
   "cell_type": "code",
   "execution_count": 20,
   "metadata": {},
   "outputs": [
    {
     "data": {
      "text/html": [
       "<div>\n",
       "<style scoped>\n",
       "    .dataframe tbody tr th:only-of-type {\n",
       "        vertical-align: middle;\n",
       "    }\n",
       "\n",
       "    .dataframe tbody tr th {\n",
       "        vertical-align: top;\n",
       "    }\n",
       "\n",
       "    .dataframe thead th {\n",
       "        text-align: right;\n",
       "    }\n",
       "</style>\n",
       "<table border=\"1\" class=\"dataframe\">\n",
       "  <thead>\n",
       "    <tr style=\"text-align: right;\">\n",
       "      <th></th>\n",
       "      <th>brokered_by</th>\n",
       "      <th>status</th>\n",
       "      <th>price</th>\n",
       "      <th>bed</th>\n",
       "      <th>bath</th>\n",
       "      <th>acre_lot</th>\n",
       "      <th>street</th>\n",
       "      <th>city</th>\n",
       "      <th>state</th>\n",
       "      <th>zip_code</th>\n",
       "      <th>house_size</th>\n",
       "      <th>prev_sold_day</th>\n",
       "      <th>prev_sold_month</th>\n",
       "      <th>prev_sold_year</th>\n",
       "    </tr>\n",
       "  </thead>\n",
       "  <tbody>\n",
       "    <tr>\n",
       "      <th>2126382</th>\n",
       "      <td>53587.0</td>\n",
       "      <td>sold</td>\n",
       "      <td>1199000.0</td>\n",
       "      <td>2.0</td>\n",
       "      <td>2.0</td>\n",
       "      <td>0.17</td>\n",
       "      <td>234139.0</td>\n",
       "      <td>Menlo Park</td>\n",
       "      <td>California</td>\n",
       "      <td>94025.0</td>\n",
       "      <td>1070.0</td>\n",
       "      <td>2022</td>\n",
       "      <td>03</td>\n",
       "      <td>04</td>\n",
       "    </tr>\n",
       "    <tr>\n",
       "      <th>2126383</th>\n",
       "      <td>90671.0</td>\n",
       "      <td>sold</td>\n",
       "      <td>5998000.0</td>\n",
       "      <td>5.0</td>\n",
       "      <td>3.0</td>\n",
       "      <td>0.21</td>\n",
       "      <td>632493.0</td>\n",
       "      <td>Palo Alto</td>\n",
       "      <td>California</td>\n",
       "      <td>94301.0</td>\n",
       "      <td>2840.0</td>\n",
       "      <td>2022</td>\n",
       "      <td>03</td>\n",
       "      <td>04</td>\n",
       "    </tr>\n",
       "    <tr>\n",
       "      <th>2126384</th>\n",
       "      <td>47547.0</td>\n",
       "      <td>sold</td>\n",
       "      <td>588000.0</td>\n",
       "      <td>1.0</td>\n",
       "      <td>1.0</td>\n",
       "      <td>0.17</td>\n",
       "      <td>1426633.0</td>\n",
       "      <td>Sunnyvale</td>\n",
       "      <td>California</td>\n",
       "      <td>94086.0</td>\n",
       "      <td>747.0</td>\n",
       "      <td>2022</td>\n",
       "      <td>03</td>\n",
       "      <td>04</td>\n",
       "    </tr>\n",
       "    <tr>\n",
       "      <th>2126385</th>\n",
       "      <td>72938.0</td>\n",
       "      <td>sold</td>\n",
       "      <td>258000.0</td>\n",
       "      <td>3.0</td>\n",
       "      <td>2.0</td>\n",
       "      <td>0.17</td>\n",
       "      <td>223344.0</td>\n",
       "      <td>Sunnyvale</td>\n",
       "      <td>California</td>\n",
       "      <td>94089.0</td>\n",
       "      <td>1041.0</td>\n",
       "      <td>2022</td>\n",
       "      <td>03</td>\n",
       "      <td>04</td>\n",
       "    </tr>\n",
       "    <tr>\n",
       "      <th>2126386</th>\n",
       "      <td>16829.0</td>\n",
       "      <td>sold</td>\n",
       "      <td>898000.0</td>\n",
       "      <td>2.0</td>\n",
       "      <td>1.0</td>\n",
       "      <td>0.06</td>\n",
       "      <td>1509673.0</td>\n",
       "      <td>Redwood City</td>\n",
       "      <td>California</td>\n",
       "      <td>94063.0</td>\n",
       "      <td>820.0</td>\n",
       "      <td>2022</td>\n",
       "      <td>03</td>\n",
       "      <td>04</td>\n",
       "    </tr>\n",
       "  </tbody>\n",
       "</table>\n",
       "</div>"
      ],
      "text/plain": [
       "         brokered_by status      price  bed  bath  acre_lot     street  \\\n",
       "2126382      53587.0   sold  1199000.0  2.0   2.0      0.17   234139.0   \n",
       "2126383      90671.0   sold  5998000.0  5.0   3.0      0.21   632493.0   \n",
       "2126384      47547.0   sold   588000.0  1.0   1.0      0.17  1426633.0   \n",
       "2126385      72938.0   sold   258000.0  3.0   2.0      0.17   223344.0   \n",
       "2126386      16829.0   sold   898000.0  2.0   1.0      0.06  1509673.0   \n",
       "\n",
       "                 city       state  zip_code  house_size prev_sold_day  \\\n",
       "2126382    Menlo Park  California   94025.0      1070.0          2022   \n",
       "2126383     Palo Alto  California   94301.0      2840.0          2022   \n",
       "2126384     Sunnyvale  California   94086.0       747.0          2022   \n",
       "2126385     Sunnyvale  California   94089.0      1041.0          2022   \n",
       "2126386  Redwood City  California   94063.0       820.0          2022   \n",
       "\n",
       "        prev_sold_month prev_sold_year  \n",
       "2126382              03             04  \n",
       "2126383              03             04  \n",
       "2126384              03             04  \n",
       "2126385              03             04  \n",
       "2126386              03             04  "
      ]
     },
     "execution_count": 20,
     "metadata": {},
     "output_type": "execute_result"
    }
   ],
   "source": [
    "df_dropped.head()"
   ]
  },
  {
   "cell_type": "markdown",
   "metadata": {},
   "source": [
    "Let's drop the datasets that contains large missing values "
   ]
  },
  {
   "cell_type": "code",
   "execution_count": 21,
   "metadata": {},
   "outputs": [],
   "source": [
    "df_dropped.dropna(inplace=True)\n"
   ]
  },
  {
   "cell_type": "code",
   "execution_count": 22,
   "metadata": {},
   "outputs": [
    {
     "data": {
      "text/plain": [
       "brokered_by        0\n",
       "status             0\n",
       "price              0\n",
       "bed                0\n",
       "bath               0\n",
       "acre_lot           0\n",
       "street             0\n",
       "city               0\n",
       "state              0\n",
       "zip_code           0\n",
       "house_size         0\n",
       "prev_sold_day      0\n",
       "prev_sold_month    0\n",
       "prev_sold_year     0\n",
       "dtype: int64"
      ]
     },
     "execution_count": 22,
     "metadata": {},
     "output_type": "execute_result"
    }
   ],
   "source": [
    "df_dropped.isnull().sum()"
   ]
  },
  {
   "cell_type": "code",
   "execution_count": 23,
   "metadata": {},
   "outputs": [
    {
     "data": {
      "text/plain": [
       "(99995, 14)"
      ]
     },
     "execution_count": 23,
     "metadata": {},
     "output_type": "execute_result"
    }
   ],
   "source": [
    "df_dropped.shape"
   ]
  },
  {
   "cell_type": "code",
   "execution_count": 24,
   "metadata": {},
   "outputs": [
    {
     "data": {
      "text/html": [
       "<div>\n",
       "<style scoped>\n",
       "    .dataframe tbody tr th:only-of-type {\n",
       "        vertical-align: middle;\n",
       "    }\n",
       "\n",
       "    .dataframe tbody tr th {\n",
       "        vertical-align: top;\n",
       "    }\n",
       "\n",
       "    .dataframe thead th {\n",
       "        text-align: right;\n",
       "    }\n",
       "</style>\n",
       "<table border=\"1\" class=\"dataframe\">\n",
       "  <thead>\n",
       "    <tr style=\"text-align: right;\">\n",
       "      <th></th>\n",
       "      <th>brokered_by</th>\n",
       "      <th>status</th>\n",
       "      <th>price</th>\n",
       "      <th>bed</th>\n",
       "      <th>bath</th>\n",
       "      <th>acre_lot</th>\n",
       "      <th>street</th>\n",
       "      <th>city</th>\n",
       "      <th>state</th>\n",
       "      <th>zip_code</th>\n",
       "      <th>house_size</th>\n",
       "      <th>prev_sold_day</th>\n",
       "      <th>prev_sold_month</th>\n",
       "      <th>prev_sold_year</th>\n",
       "    </tr>\n",
       "  </thead>\n",
       "  <tbody>\n",
       "    <tr>\n",
       "      <th>2126382</th>\n",
       "      <td>53587.0</td>\n",
       "      <td>sold</td>\n",
       "      <td>1199000.0</td>\n",
       "      <td>2.0</td>\n",
       "      <td>2.0</td>\n",
       "      <td>0.17</td>\n",
       "      <td>234139.0</td>\n",
       "      <td>Menlo Park</td>\n",
       "      <td>California</td>\n",
       "      <td>94025.0</td>\n",
       "      <td>1070.0</td>\n",
       "      <td>2022</td>\n",
       "      <td>03</td>\n",
       "      <td>04</td>\n",
       "    </tr>\n",
       "    <tr>\n",
       "      <th>2126383</th>\n",
       "      <td>90671.0</td>\n",
       "      <td>sold</td>\n",
       "      <td>5998000.0</td>\n",
       "      <td>5.0</td>\n",
       "      <td>3.0</td>\n",
       "      <td>0.21</td>\n",
       "      <td>632493.0</td>\n",
       "      <td>Palo Alto</td>\n",
       "      <td>California</td>\n",
       "      <td>94301.0</td>\n",
       "      <td>2840.0</td>\n",
       "      <td>2022</td>\n",
       "      <td>03</td>\n",
       "      <td>04</td>\n",
       "    </tr>\n",
       "    <tr>\n",
       "      <th>2126384</th>\n",
       "      <td>47547.0</td>\n",
       "      <td>sold</td>\n",
       "      <td>588000.0</td>\n",
       "      <td>1.0</td>\n",
       "      <td>1.0</td>\n",
       "      <td>0.17</td>\n",
       "      <td>1426633.0</td>\n",
       "      <td>Sunnyvale</td>\n",
       "      <td>California</td>\n",
       "      <td>94086.0</td>\n",
       "      <td>747.0</td>\n",
       "      <td>2022</td>\n",
       "      <td>03</td>\n",
       "      <td>04</td>\n",
       "    </tr>\n",
       "    <tr>\n",
       "      <th>2126385</th>\n",
       "      <td>72938.0</td>\n",
       "      <td>sold</td>\n",
       "      <td>258000.0</td>\n",
       "      <td>3.0</td>\n",
       "      <td>2.0</td>\n",
       "      <td>0.17</td>\n",
       "      <td>223344.0</td>\n",
       "      <td>Sunnyvale</td>\n",
       "      <td>California</td>\n",
       "      <td>94089.0</td>\n",
       "      <td>1041.0</td>\n",
       "      <td>2022</td>\n",
       "      <td>03</td>\n",
       "      <td>04</td>\n",
       "    </tr>\n",
       "    <tr>\n",
       "      <th>2126386</th>\n",
       "      <td>16829.0</td>\n",
       "      <td>sold</td>\n",
       "      <td>898000.0</td>\n",
       "      <td>2.0</td>\n",
       "      <td>1.0</td>\n",
       "      <td>0.06</td>\n",
       "      <td>1509673.0</td>\n",
       "      <td>Redwood City</td>\n",
       "      <td>California</td>\n",
       "      <td>94063.0</td>\n",
       "      <td>820.0</td>\n",
       "      <td>2022</td>\n",
       "      <td>03</td>\n",
       "      <td>04</td>\n",
       "    </tr>\n",
       "  </tbody>\n",
       "</table>\n",
       "</div>"
      ],
      "text/plain": [
       "         brokered_by status      price  bed  bath  acre_lot     street  \\\n",
       "2126382      53587.0   sold  1199000.0  2.0   2.0      0.17   234139.0   \n",
       "2126383      90671.0   sold  5998000.0  5.0   3.0      0.21   632493.0   \n",
       "2126384      47547.0   sold   588000.0  1.0   1.0      0.17  1426633.0   \n",
       "2126385      72938.0   sold   258000.0  3.0   2.0      0.17   223344.0   \n",
       "2126386      16829.0   sold   898000.0  2.0   1.0      0.06  1509673.0   \n",
       "\n",
       "                 city       state  zip_code  house_size prev_sold_day  \\\n",
       "2126382    Menlo Park  California   94025.0      1070.0          2022   \n",
       "2126383     Palo Alto  California   94301.0      2840.0          2022   \n",
       "2126384     Sunnyvale  California   94086.0       747.0          2022   \n",
       "2126385     Sunnyvale  California   94089.0      1041.0          2022   \n",
       "2126386  Redwood City  California   94063.0       820.0          2022   \n",
       "\n",
       "        prev_sold_month prev_sold_year  \n",
       "2126382              03             04  \n",
       "2126383              03             04  \n",
       "2126384              03             04  \n",
       "2126385              03             04  \n",
       "2126386              03             04  "
      ]
     },
     "execution_count": 24,
     "metadata": {},
     "output_type": "execute_result"
    }
   ],
   "source": [
    "df_dropped.head()"
   ]
  },
  {
   "cell_type": "code",
   "execution_count": 25,
   "metadata": {},
   "outputs": [
    {
     "data": {
      "text/plain": [
       "brokered_by        float64\n",
       "status              object\n",
       "price              float64\n",
       "bed                float64\n",
       "bath               float64\n",
       "acre_lot           float64\n",
       "street             float64\n",
       "city                object\n",
       "state               object\n",
       "zip_code           float64\n",
       "house_size         float64\n",
       "prev_sold_day       object\n",
       "prev_sold_month     object\n",
       "prev_sold_year      object\n",
       "dtype: object"
      ]
     },
     "execution_count": 25,
     "metadata": {},
     "output_type": "execute_result"
    }
   ],
   "source": [
    "# Lets see the types of our dataframe\n",
    "df_dropped.dtypes"
   ]
  },
  {
   "cell_type": "code",
   "execution_count": 26,
   "metadata": {},
   "outputs": [
    {
     "data": {
      "text/plain": [
       "<Axes: xlabel='state'>"
      ]
     },
     "execution_count": 26,
     "metadata": {},
     "output_type": "execute_result"
    },
    {
     "data": {
      "image/png": "[encoded data removed]",
      "text/plain": [
       "<Figure size 640x480 with 1 Axes>"
      ]
     },
     "metadata": {},
     "output_type": "display_data"
    }
   ],
   "source": [
    "df_dropped['state'].value_counts().plot(kind='bar')"
   ]
  },
  {
   "cell_type": "code",
   "execution_count": null,
   "metadata": {},
   "outputs": [],
   "source": []
  },
  {
   "cell_type": "code",
   "execution_count": null,
   "metadata": {},
   "outputs": [],
   "source": []
  },
  {
   "cell_type": "code",
   "execution_count": 27,
   "metadata": {},
   "outputs": [
    {
     "data": {
      "text/plain": [
       "<Axes: >"
      ]
     },
     "execution_count": 27,
     "metadata": {},
     "output_type": "execute_result"
    },
    {
     "data": {
      "image/png": "[encoded data removed]",
      "text/plain": [
       "<Figure size 640x480 with 1 Axes>"
      ]
     },
     "metadata": {},
     "output_type": "display_data"
    }
   ],
   "source": [
    "sum_bath = df_dropped.groupby('bath')['price'].sum().plot(kind='box')\n",
    "sum_bath"
   ]
  },
  {
   "cell_type": "code",
   "execution_count": null,
   "metadata": {},
   "outputs": [],
   "source": []
  },
  {
   "cell_type": "code",
   "execution_count": 28,
   "metadata": {},
   "outputs": [
    {
     "data": {
      "text/plain": [
       "status\n",
       "sold    99995\n",
       "Name: count, dtype: int64"
      ]
     },
     "execution_count": 28,
     "metadata": {},
     "output_type": "execute_result"
    }
   ],
   "source": [
    "df_dropped['status'].value_counts()"
   ]
  },
  {
   "cell_type": "code",
   "execution_count": 29,
   "metadata": {},
   "outputs": [],
   "source": [
    "def univariate_barplot(data, xlabel, ylabel=\"Frequency\", xlabel_rotation=0):\n",
    "    # Set font size\n",
    "    sns.set(font_scale=1.4)\n",
    "\n",
    "    # Get value counts\n",
    "    value_counts = data[xlabel].value_counts()\n",
    "    ax = value_counts.plot.bar(\n",
    "        # Set a categorical color palette\n",
    "        color=sns.color_palette(\"Set2\"),\n",
    "        # Set a figure size\n",
    "        figsize=(10, 10),\n",
    "        # Rotate the x-axis labels for proper orientation\n",
    "        rot=xlabel_rotation,\n",
    "    )\n",
    "\n",
    "    total = value_counts.sum()\n",
    "    # Add percentage label for each plot\n",
    "    for plot in ax.patches:\n",
    "        height = plot.get_height()\n",
    "        ax.annotate(\n",
    "            # Percentage label text\n",
    "            f\"{height / total * 100:.1f}%\",\n",
    "            xy=(\n",
    "                # Percentage label x co-ordinate\n",
    "                plot.get_x() + plot.get_width() / 2.,\n",
    "                # Percentage label y co-ordinate\n",
    "                height,\n",
    "            ),\n",
    "            # Percentage label horizontal align\n",
    "            ha=\"center\",\n",
    "\n",
    "        )\n",
    "\n",
    "    ax.set_title(f\"Distribution of {xlabel} in the dataset\", y=1.02)\n",
    "    ax.set_xlabel(xlabel, labelpad=14)\n",
    "    ax.set_ylabel(ylabel, labelpad=14)"
   ]
  },
  {
   "cell_type": "code",
   "execution_count": 30,
   "metadata": {},
   "outputs": [
    {
     "data": {
      "image/png": "[encoded data removed]",
      "text/plain": [
       "<Figure size 1000x1000 with 1 Axes>"
      ]
     },
     "metadata": {},
     "output_type": "display_data"
    }
   ],
   "source": [
    "univariate_barplot(data, 'status')"
   ]
  },
  {
   "cell_type": "code",
   "execution_count": 31,
   "metadata": {},
   "outputs": [],
   "source": [
    "# numerical_columns \n",
    "numerical_features = ['bath', 'bed', 'acre_lot', 'brokered_by', 'street', 'zip_code', 'house_size']\n",
    "\n"
   ]
  },
  {
   "cell_type": "code",
   "execution_count": null,
   "metadata": {},
   "outputs": [],
   "source": [
    "# Set the aesthetic style of the plots\n",
    "sns.set_style('whitegrid')\n",
    "\n",
    "# Create histograms for the numerical columns\n",
    "fig, axes = plt.subplots(nrows=3, ncols=2, figsize = (12,12))\n",
    "plt.suptitle('Histogram plot for numbrical features', fontsize = 16)\n",
    "\n",
    "\n",
    "for i, column in enumerate(numerical_features):\n",
    "    sns.histplot(data[column], kde=True, ax = axes[i//2, i%2])\n",
    "    axes[i//2, i%2].set_title(column)\n",
    "    axes[i//2, i%2].set_xlabel('')\n",
    "    axes[i//2, i%2].set_ylabel('')\n",
    "\n",
    "plt.tight_layour(rect=[0,0.03,1,0.95])\n",
    "plt.show()\n"
   ]
  },
  {
   "cell_type": "markdown",
   "metadata": {},
   "source": [
    "lets work on categorical features and numerical features\n",
    "\n"
   ]
  },
  {
   "cell_type": "code",
   "execution_count": null,
   "metadata": {},
   "outputs": [],
   "source": [
    "data['bath'].value_counts()"
   ]
  },
  {
   "cell_type": "code",
   "execution_count": null,
   "metadata": {},
   "outputs": [],
   "source": [
    "data['bed'].value_counts()"
   ]
  },
  {
   "cell_type": "code",
   "execution_count": null,
   "metadata": {},
   "outputs": [],
   "source": [
    "data['acre_lot'].value_counts()"
   ]
  },
  {
   "cell_type": "code",
   "execution_count": null,
   "metadata": {},
   "outputs": [],
   "source": []
  },
  {
   "cell_type": "code",
   "execution_count": null,
   "metadata": {},
   "outputs": [],
   "source": []
  },
  {
   "cell_type": "code",
   "execution_count": null,
   "metadata": {},
   "outputs": [],
   "source": []
  },
  {
   "cell_type": "code",
   "execution_count": null,
   "metadata": {},
   "outputs": [],
   "source": [
    "# categorical\n",
    "categorical = ['state', 'status', 'city']\n"
   ]
  },
  {
   "cell_type": "code",
   "execution_count": null,
   "metadata": {},
   "outputs": [],
   "source": [
    "# numerical \n",
    "numerical_features = ['bath', 'bed', 'acre_lot', 'brokered_by', 'street', 'zip_code', 'house_size']"
   ]
  },
  {
   "cell_type": "code",
   "execution_count": null,
   "metadata": {},
   "outputs": [],
   "source": []
  }
 ],
 "metadata": {
  "kernelspec": {
   "display_name": "Python 3 (ipykernel)",
   "language": "python",
   "name": "python3"
  },
  "language_info": {
   "codemirror_mode": {
    "name": "ipython",
    "version": 3
   },
   "file_extension": ".py",
   "mimetype": "text/x-python",
   "name": "python",
   "nbconvert_exporter": "python",
   "pygments_lexer": "ipython3",
   "version": "3.10.12"
  }
 },
 "nbformat": 4,
 "nbformat_minor": 4
}
